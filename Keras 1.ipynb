{
  "nbformat": 4,
  "nbformat_minor": 0,
  "metadata": {
    "colab": {
      "provenance": [],
      "authorship_tag": "ABX9TyMobVstHzIkXX/t2tA+yr8P",
      "include_colab_link": true
    },
    "kernelspec": {
      "name": "python3",
      "display_name": "Python 3"
    },
    "language_info": {
      "name": "python"
    }
  },
  "cells": [
    {
      "cell_type": "markdown",
      "metadata": {
        "id": "view-in-github",
        "colab_type": "text"
      },
      "source": [
        "<a href=\"https://colab.research.google.com/github/giondo/RN-test1/blob/main/Keras%201.ipynb\" target=\"_parent\"><img src=\"https://colab.research.google.com/assets/colab-badge.svg\" alt=\"Open In Colab\"/></a>"
      ]
    },
    {
      "cell_type": "code",
      "execution_count": 7,
      "metadata": {
        "id": "hnUEbMw-c8Pv",
        "outputId": "5553c23e-d6f2-45d3-aea9-bb7f3ace2106",
        "colab": {
          "base_uri": "https://localhost:8080/"
        }
      },
      "outputs": [
        {
          "output_type": "stream",
          "name": "stdout",
          "text": [
            "IPython: 7.34.0\n",
            "numpy: 1.23.5\n",
            "scipy: 1.11.3\n",
            "matplotlib: 3.7.1\n",
            "scikit-learn: 1.2.2\n"
          ]
        }
      ],
      "source": [
        "import IPython\n",
        "import numpy\n",
        "import scipy\n",
        "import matplotlib\n",
        "import sklearn\n",
        "\n",
        "print('IPython:', IPython.__version__)\n",
        "print('numpy:', numpy.__version__)\n",
        "print('scipy:', scipy.__version__)\n",
        "print('matplotlib:', matplotlib.__version__)\n",
        "print('scikit-learn:', sklearn.__version__)\n",
        "\n",
        "from sklearn import neighbors, datasets\n",
        "from sklearn.model_selection import train_test_split\n",
        "from sklearn.preprocessing import OneHotEncoder, StandardScaler\n",
        "from sklearn.metrics import classification_report, confusion_matrix\n",
        "\n",
        "from IPython.core.display import Image, display\n",
        "import matplotlib.pyplot as plt\n",
        "from mpl_toolkits.mplot3d import Axes3D\n"
      ]
    },
    {
      "cell_type": "code",
      "source": [],
      "metadata": {
        "id": "rlWcLemnlLDB"
      },
      "execution_count": null,
      "outputs": []
    }
  ]
}